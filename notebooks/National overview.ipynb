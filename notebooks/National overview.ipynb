{
 "cells": [
  {
   "cell_type": "markdown",
   "metadata": {},
   "source": [
    "## 1. Importing libraries"
   ]
  },
  {
   "cell_type": "code",
   "execution_count": 1,
   "metadata": {},
   "outputs": [],
   "source": [
    "#importing required libraries\n",
    "import pandas as pd\n",
    "import numpy as np\n",
    "import seaborn as sns\n",
    "import matplotlib.pyplot as plt\n"
   ]
  },
  {
   "cell_type": "markdown",
   "metadata": {},
   "source": [
    "## 2. Importing datasets"
   ]
  },
  {
   "cell_type": "code",
   "execution_count": 2,
   "metadata": {},
   "outputs": [],
   "source": [
    "#Reading in data \n",
    "## Testing data\n",
    "\n",
    "#Confirmed provincial cummulative  tests         \n",
    "df5 = pd.read_csv('./../data/raw/owid-covid-data.csv', sep= ',')\n",
    "sa_cumm=df5[df5['location'] == 'South Africa']\n",
    "\n",
    "#Confirmed national cummulative confirmed positive tests         \n",
    "df6 = pd.read_csv('./../data/raw/time_series_covid19_confirmed_global.csv', sep= ',')\n",
    "sa_con=df6[df6['Country/Region'] == 'South Africa']\n",
    "\n",
    "#Confirmed national cummulative confirmed deaths         \n",
    "df7 = pd.read_csv('./../data/raw/time_series_covid19_deaths_global.csv', sep= ',')\n",
    "sa_death=df7[df7['Country/Region'] == 'South Africa']\n",
    "\n",
    "#Confirmed national cummulative confirmed revovered tests         \n",
    "df8 = pd.read_csv('./../data/raw/time_series_covid19_recovered_global.csv', sep= ',')\n",
    "sa_recovd=df8[df8['Country/Region'] == 'South Africa']\n",
    "\n",
    "#National density\n",
    "sa_dens = pd.read_csv('./../data/raw/data.csv')\n",
    "sa_dens=sa_dens[sa_dens['name'] == 'South Africa']\n",
    "\n",
    "#Number of hospital beds per province\n",
    "hosp_beds = pd.read_csv('./../data/raw/hospital_beds.csv', sep = ';')\n",
    "\n",
    "#List of hospitals in each povince\n",
    "url=\"https://raw.githubusercontent.com/dsfsi/covid19za/master/data/health_system_za_public_hospitals.csv\"\n",
    "hosp_list=pd.read_csv(url)"
   ]
  },
  {
   "cell_type": "markdown",
   "metadata": {},
   "source": [
    "## 3.EDA"
   ]
  },
  {
   "cell_type": "code",
   "execution_count": 3,
   "metadata": {},
   "outputs": [],
   "source": [
    "#Dropping unwanted columns\n",
    "\n",
    "#Confirmed national cummulative tests conducted\n",
    "sa_dens = sa_dens.drop(['rank'], axis=1)\n",
    "\n",
    "#List of hospitals\n",
    "hosp_list = hosp_list.drop(['ID','Lat', 'Long','district','district_estimated_population','subdistrict', 'service_offered_by_hospital', 'size_hospital','number_of_beds','number_of_practitioners','webpage','geo_subdivision'], axis=1)\n",
    "\n",
    "#Confirmed national cummulative tests conducted\n",
    "sa_cumm = sa_cumm.drop(['iso_code'], axis=1)\n",
    "\n",
    "#Confirmed national cummulative confirmed positive tests \n",
    "sa_con = sa_con.drop(['Lat', 'Long','Province/State'], axis=1)\n",
    "\n",
    "#Confirmed national cummulative confirmed deaths \n",
    "sa_death = sa_death.drop(['Lat', 'Long','Province/State'], axis=1)\n",
    "\n",
    "#Confirmed national cummulative confirmed recovered\n",
    "sa_recovd = sa_recovd.drop(['Lat', 'Long','Province/State'], axis=1)\n",
    "\n",
    "\n",
    "# Extracting relevant columns\n",
    "sa_cumm= sa_cumm[['date','new_cases','new_deaths']]"
   ]
  },
  {
   "cell_type": "code",
   "execution_count": 4,
   "metadata": {},
   "outputs": [],
   "source": [
    "#Cleaning up columns\n",
    "\n",
    "#Creating date column for sa_con dataframe\n",
    "dfc1 = sa_con.melt(id_vars=[\"Country/Region\"], \n",
    "                    var_name=\"Date\",\n",
    "                    value_name=\"cases\")\n",
    "dfc1 = dfc1.rename({'Country/Region': 'country', 'Date': 'date'}, axis=1)\n",
    "sa_con = dfc1\n",
    "sa_con['date'] = pd.to_datetime(sa_con['date'])\n",
    "\n",
    "#Creating date column for sa_death dataframe\n",
    "dfc2 = sa_death.melt(id_vars=[\"Country/Region\"], \n",
    "                    var_name=\"Date\",\n",
    "                    value_name=\"cases\")\n",
    "dfc2 = dfc2.rename({'Country/Region': 'country', 'Date': 'date'}, axis=1)\n",
    "sa_death = dfc2\n",
    "sa_death['date'] = pd.to_datetime(sa_death['date'])\n",
    "\n",
    "#Creating date column for sa_recovd dataframe\n",
    "dfc3 = sa_recovd.melt(id_vars=[\"Country/Region\"], \n",
    "                    var_name=\"Date\",\n",
    "                    value_name=\"cases\")\n",
    "dfc3 = dfc3.rename({'Country/Region': 'country', 'Date': 'date'}, axis=1)\n",
    "sa_recovd = dfc3\n",
    "\n",
    "#converting to datetime\n",
    "sa_recovd['date'] = pd.to_datetime(sa_recovd['date'])\n",
    "sa_cumm['date'] = pd.to_datetime(sa_cumm['date'])\n",
    "\n",
    "#converting all nan values to 0\n",
    "sa_cumm = sa_cumm.fillna(0)"
   ]
  },
  {
   "cell_type": "code",
   "execution_count": 5,
   "metadata": {},
   "outputs": [],
   "source": [
    "#Renaming testing columns \n",
    "\n",
    "sa_con.rename(columns={'cases':'confirmed_cases'}, inplace=True)\n",
    "sa_death.rename(columns={'cases':'death_cases'}, inplace=True)\n",
    "sa_recovd.rename(columns={'cases':'recovered_cases'}, inplace=True)"
   ]
  },
  {
   "cell_type": "code",
   "execution_count": 6,
   "metadata": {},
   "outputs": [
    {
     "data": {
      "text/html": [
       "<div>\n",
       "<style scoped>\n",
       "    .dataframe tbody tr th:only-of-type {\n",
       "        vertical-align: middle;\n",
       "    }\n",
       "\n",
       "    .dataframe tbody tr th {\n",
       "        vertical-align: top;\n",
       "    }\n",
       "\n",
       "    .dataframe thead th {\n",
       "        text-align: right;\n",
       "    }\n",
       "</style>\n",
       "<table border=\"1\" class=\"dataframe\">\n",
       "  <thead>\n",
       "    <tr style=\"text-align: right;\">\n",
       "      <th></th>\n",
       "      <th>country</th>\n",
       "      <th>date</th>\n",
       "      <th>confirmed_cases</th>\n",
       "      <th>death_cases</th>\n",
       "      <th>recovered_cases</th>\n",
       "      <th>new_cases</th>\n",
       "      <th>new_deaths</th>\n",
       "    </tr>\n",
       "  </thead>\n",
       "  <tbody>\n",
       "    <tr>\n",
       "      <th>0</th>\n",
       "      <td>South Africa</td>\n",
       "      <td>2020-01-22</td>\n",
       "      <td>0</td>\n",
       "      <td>0</td>\n",
       "      <td>0</td>\n",
       "      <td>0.0</td>\n",
       "      <td>0.0</td>\n",
       "    </tr>\n",
       "  </tbody>\n",
       "</table>\n",
       "</div>"
      ],
      "text/plain": [
       "        country       date  confirmed_cases  death_cases  recovered_cases  \\\n",
       "0  South Africa 2020-01-22                0            0                0   \n",
       "\n",
       "   new_cases  new_deaths  \n",
       "0        0.0         0.0  "
      ]
     },
     "execution_count": 6,
     "metadata": {},
     "output_type": "execute_result"
    }
   ],
   "source": [
    "#Merging South Africa's confirmed, death, recovered cases and new cases for each\n",
    "\n",
    "sa_testing=pd.merge(sa_con, sa_death, how='left')\n",
    "sa_testing=pd.merge(sa_testing, sa_recovd, how='left')\n",
    "sa_testing=pd.merge(sa_testing, sa_cumm, how='left')\n",
    "\n",
    "# Removing nans in dataframe\n",
    "sa_testing= sa_testing.fillna(0)\n",
    "sa_testing.head(1)"
   ]
  },
  {
   "cell_type": "markdown",
   "metadata": {},
   "source": [
    "##  4.  Statistical analysis\n",
    "\n",
    "### 4.1 Testing dataset"
   ]
  },
  {
   "cell_type": "code",
   "execution_count": 7,
   "metadata": {},
   "outputs": [
    {
     "name": "stdout",
     "output_type": "stream",
     "text": [
      "Date:2020-05-11 00:00:00 TOTAL CASES:10652 TOTAL DEATH:206 TOTAL RECOVERED:4357 NEW CASES:595.0\n"
     ]
    }
   ],
   "source": [
    "#Looking closely into the national testing dataframe\n",
    "\n",
    "# display of latest figures\n",
    "totl_con = sa_testing['confirmed_cases'].iloc[-1]\n",
    "totl_death = sa_testing['death_cases'].iloc[-1]\n",
    "totl_recovd = sa_testing['recovered_cases'].iloc[-1]\n",
    "new_case = sa_testing['new_cases'].iloc[-1]\n",
    "new_deaths = sa_testing['new_deaths'].iloc[-1]\n",
    "date = sa_testing['date'].iloc[-1]\n",
    "\n",
    "print('Date:{} TOTAL CASES:{} TOTAL DEATH:{} TOTAL RECOVERED:{} NEW CASES:{}' .format(date,totl_con,totl_death,totl_recovd,new_case), sep='nl')\n"
   ]
  },
  {
   "cell_type": "code",
   "execution_count": 8,
   "metadata": {},
   "outputs": [
    {
     "data": {
      "image/png": "[encoded data removed]",
      "text/plain": [
       "<Figure size 432x288 with 1 Axes>"
      ]
     },
     "metadata": {
      "needs_background": "light"
     },
     "output_type": "display_data"
    }
   ],
   "source": [
    "#Looking closely into the national testing dataframe\n",
    "\n",
    "fig = plt.figure()\n",
    "ax = fig.add_axes([0,0,1,1])\n",
    "ax.bar('Province','Total no of beds', data =hosp_beds )\n",
    "ax.set_title('National number of hospital beds')\n",
    "ax.set_xlabel('Provinces')\n",
    "ax.set_ylabel('Total number of beds')\n",
    "fig.autofmt_xdate(rotation=45);\n"
   ]
  },
  {
   "cell_type": "code",
   "execution_count": 9,
   "metadata": {},
   "outputs": [
    {
     "data": {
      "text/html": [
       "<div>\n",
       "<style scoped>\n",
       "    .dataframe tbody tr th:only-of-type {\n",
       "        vertical-align: middle;\n",
       "    }\n",
       "\n",
       "    .dataframe tbody tr th {\n",
       "        vertical-align: top;\n",
       "    }\n",
       "\n",
       "    .dataframe thead th {\n",
       "        text-align: right;\n",
       "    }\n",
       "</style>\n",
       "<table border=\"1\" class=\"dataframe\">\n",
       "  <thead>\n",
       "    <tr style=\"text-align: right;\">\n",
       "      <th></th>\n",
       "      <th>name</th>\n",
       "      <th>density</th>\n",
       "      <th>densityMi</th>\n",
       "      <th>pop2020</th>\n",
       "      <th>area</th>\n",
       "    </tr>\n",
       "  </thead>\n",
       "  <tbody>\n",
       "    <tr>\n",
       "      <th>160</th>\n",
       "      <td>South Africa</td>\n",
       "      <td>48.5724</td>\n",
       "      <td>125.8025</td>\n",
       "      <td>59308.69</td>\n",
       "      <td>1221037.0</td>\n",
       "    </tr>\n",
       "  </tbody>\n",
       "</table>\n",
       "</div>"
      ],
      "text/plain": [
       "             name  density  densityMi   pop2020       area\n",
       "160  South Africa  48.5724   125.8025  59308.69  1221037.0"
      ]
     },
     "execution_count": 9,
     "metadata": {},
     "output_type": "execute_result"
    }
   ],
   "source": [
    "sa_dens"
   ]
  },
  {
   "cell_type": "code",
   "execution_count": 12,
   "metadata": {},
   "outputs": [
    {
     "name": "stdout",
     "output_type": "stream",
     "text": [
      "Population density:48.5724 Population:59308.69 Area(km2):1221037.0 \n"
     ]
    }
   ],
   "source": [
    "#Looking closely into the national density dataframe\n",
    "\n",
    "# display of latest figures\n",
    "density = sa_dens['density'].iloc[-1]\n",
    "dens_mi = sa_dens['densityMi'].iloc[-1]\n",
    "pop_2020 = sa_dens['pop2020'].iloc[-1]\n",
    "area = sa_dens['area'].iloc[-1]\n",
    "\n",
    "print('Population density:{} Population:{} Area(km2):{} ' .format(density,pop_2020,area), sep='nl')\n"
   ]
  }
 ],
 "metadata": {
  "kernelspec": {
   "display_name": "Python 3",
   "language": "python",
   "name": "python3"
  },
  "language_info": {
   "codemirror_mode": {
    "name": "ipython",
    "version": 3
   },
   "file_extension": ".py",
   "mimetype": "text/x-python",
   "name": "python",
   "nbconvert_exporter": "python",
   "pygments_lexer": "ipython3",
   "version": "3.7.3"
  }
 },
 "nbformat": 4,
 "nbformat_minor": 4
}
